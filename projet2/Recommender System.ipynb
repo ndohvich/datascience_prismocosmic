{
 "cells": [
  {
   "cell_type": "markdown",
   "id": "a127135a-c790-47dd-a801-ac9a67ae7a0d",
   "metadata": {},
   "source": [
    "<h1 align=\"center\", style=\"color:red;font-familly:bold\">Recommender System</h1>"
   ]
  },
  {
   "cell_type": "markdown",
   "id": "f5dae305-853e-4441-84a5-ab28e2f39299",
   "metadata": {},
   "source": [
    "# **I- Importing the dependencies**"
   ]
  },
  {
   "cell_type": "code",
   "execution_count": 3,
   "id": "164561be-7183-4317-837b-a4c7a9c363b3",
   "metadata": {},
   "outputs": [],
   "source": [
    "import numpy as np\n",
    "import pandas as pd\n",
    "import difflib\n",
    "\n",
    "from sklearn.feature_extraction.text import TfidfVectorizer\n",
    "from sklearn.metrics.pairwise import cosine_similarity"
   ]
  },
  {
   "cell_type": "markdown",
   "id": "044c752f-0d58-41cd-8e2e-e51ad875cc94",
   "metadata": {},
   "source": [
    "# **II- Data Collection and Pre-Preocessing**"
   ]
  },
  {
   "cell_type": "code",
   "execution_count": 5,
   "id": "812ede25-de46-4a32-827a-ec41d9f2240b",
   "metadata": {},
   "outputs": [],
   "source": [
    "#Loading the data from the csv file to a pandas dataframe \n",
    "movies_data = pd.read_csv('rms/bd/movies1.csv')"
   ]
  },
  {
   "cell_type": "code",
   "execution_count": 6,
   "id": "77e87e05-726c-484b-87b9-f13f7fc97c83",
   "metadata": {},
   "outputs": [
    {
     "data": {
      "text/html": [
       "<div>\n",
       "<style scoped>\n",
       "    .dataframe tbody tr th:only-of-type {\n",
       "        vertical-align: middle;\n",
       "    }\n",
       "\n",
       "    .dataframe tbody tr th {\n",
       "        vertical-align: top;\n",
       "    }\n",
       "\n",
       "    .dataframe thead th {\n",
       "        text-align: right;\n",
       "    }\n",
       "</style>\n",
       "<table border=\"1\" class=\"dataframe\">\n",
       "  <thead>\n",
       "    <tr style=\"text-align: right;\">\n",
       "      <th></th>\n",
       "      <th>Poster_Link</th>\n",
       "      <th>Series_Title</th>\n",
       "      <th>Released_Year</th>\n",
       "      <th>Certificate</th>\n",
       "      <th>Runtime</th>\n",
       "      <th>Genre</th>\n",
       "      <th>IMDB_Rating</th>\n",
       "      <th>Overview</th>\n",
       "      <th>Meta_score</th>\n",
       "      <th>Director</th>\n",
       "      <th>Star1</th>\n",
       "      <th>Star2</th>\n",
       "      <th>Star3</th>\n",
       "      <th>Star4</th>\n",
       "      <th>No_of_Votes</th>\n",
       "      <th>Gross</th>\n",
       "    </tr>\n",
       "  </thead>\n",
       "  <tbody>\n",
       "    <tr>\n",
       "      <th>0</th>\n",
       "      <td>https://m.media-amazon.com/images/M/MV5BMDFkYT...</td>\n",
       "      <td>The Shawshank Redemption</td>\n",
       "      <td>1994</td>\n",
       "      <td>A</td>\n",
       "      <td>142 min</td>\n",
       "      <td>Drama</td>\n",
       "      <td>9.3</td>\n",
       "      <td>Two imprisoned men bond over a number of years...</td>\n",
       "      <td>80.0</td>\n",
       "      <td>Frank Darabont</td>\n",
       "      <td>Tim Robbins</td>\n",
       "      <td>Morgan Freeman</td>\n",
       "      <td>Bob Gunton</td>\n",
       "      <td>William Sadler</td>\n",
       "      <td>2343110</td>\n",
       "      <td>28,341,469</td>\n",
       "    </tr>\n",
       "    <tr>\n",
       "      <th>1</th>\n",
       "      <td>https://m.media-amazon.com/images/M/MV5BM2MyNj...</td>\n",
       "      <td>The Godfather</td>\n",
       "      <td>1972</td>\n",
       "      <td>A</td>\n",
       "      <td>175 min</td>\n",
       "      <td>Crime, Drama</td>\n",
       "      <td>9.2</td>\n",
       "      <td>An organized crime dynasty's aging patriarch t...</td>\n",
       "      <td>100.0</td>\n",
       "      <td>Francis Ford Coppola</td>\n",
       "      <td>Marlon Brando</td>\n",
       "      <td>Al Pacino</td>\n",
       "      <td>James Caan</td>\n",
       "      <td>Diane Keaton</td>\n",
       "      <td>1620367</td>\n",
       "      <td>134,966,411</td>\n",
       "    </tr>\n",
       "    <tr>\n",
       "      <th>2</th>\n",
       "      <td>https://m.media-amazon.com/images/M/MV5BMTMxNT...</td>\n",
       "      <td>The Dark Knight</td>\n",
       "      <td>2008</td>\n",
       "      <td>UA</td>\n",
       "      <td>152 min</td>\n",
       "      <td>Action, Crime, Drama</td>\n",
       "      <td>9.0</td>\n",
       "      <td>When the menace known as the Joker wreaks havo...</td>\n",
       "      <td>84.0</td>\n",
       "      <td>Christopher Nolan</td>\n",
       "      <td>Christian Bale</td>\n",
       "      <td>Heath Ledger</td>\n",
       "      <td>Aaron Eckhart</td>\n",
       "      <td>Michael Caine</td>\n",
       "      <td>2303232</td>\n",
       "      <td>534,858,444</td>\n",
       "    </tr>\n",
       "  </tbody>\n",
       "</table>\n",
       "</div>"
      ],
      "text/plain": [
       "                                         Poster_Link  \\\n",
       "0  https://m.media-amazon.com/images/M/MV5BMDFkYT...   \n",
       "1  https://m.media-amazon.com/images/M/MV5BM2MyNj...   \n",
       "2  https://m.media-amazon.com/images/M/MV5BMTMxNT...   \n",
       "\n",
       "               Series_Title Released_Year Certificate  Runtime  \\\n",
       "0  The Shawshank Redemption          1994           A  142 min   \n",
       "1             The Godfather          1972           A  175 min   \n",
       "2           The Dark Knight          2008          UA  152 min   \n",
       "\n",
       "                  Genre  IMDB_Rating  \\\n",
       "0                 Drama          9.3   \n",
       "1          Crime, Drama          9.2   \n",
       "2  Action, Crime, Drama          9.0   \n",
       "\n",
       "                                            Overview  Meta_score  \\\n",
       "0  Two imprisoned men bond over a number of years...        80.0   \n",
       "1  An organized crime dynasty's aging patriarch t...       100.0   \n",
       "2  When the menace known as the Joker wreaks havo...        84.0   \n",
       "\n",
       "               Director           Star1           Star2          Star3  \\\n",
       "0        Frank Darabont     Tim Robbins  Morgan Freeman     Bob Gunton   \n",
       "1  Francis Ford Coppola   Marlon Brando       Al Pacino     James Caan   \n",
       "2     Christopher Nolan  Christian Bale    Heath Ledger  Aaron Eckhart   \n",
       "\n",
       "            Star4  No_of_Votes        Gross  \n",
       "0  William Sadler      2343110   28,341,469  \n",
       "1    Diane Keaton      1620367  134,966,411  \n",
       "2   Michael Caine      2303232  534,858,444  "
      ]
     },
     "execution_count": 6,
     "metadata": {},
     "output_type": "execute_result"
    }
   ],
   "source": [
    "#Printing the first 5 rows of the dataframe\n",
    "movies_data.head(3)"
   ]
  },
  {
   "cell_type": "code",
   "execution_count": 7,
   "id": "5ad02287-be53-4e15-8948-9356988fbf78",
   "metadata": {},
   "outputs": [
    {
     "data": {
      "text/plain": [
       "(1000, 16)"
      ]
     },
     "execution_count": 7,
     "metadata": {},
     "output_type": "execute_result"
    }
   ],
   "source": [
    "# number of rows and columns in the data frame \n",
    "movies_data.shape"
   ]
  },
  {
   "cell_type": "code",
   "execution_count": 8,
   "id": "aeab46d0-269b-40fe-84c0-c14ab401ec9c",
   "metadata": {},
   "outputs": [
    {
     "data": {
      "text/plain": [
       "Index(['Poster_Link', 'Series_Title', 'Released_Year', 'Certificate',\n",
       "       'Runtime', 'Genre', 'IMDB_Rating', 'Overview', 'Meta_score', 'Director',\n",
       "       'Star1', 'Star2', 'Star3', 'Star4', 'No_of_Votes', 'Gross'],\n",
       "      dtype='object')"
      ]
     },
     "execution_count": 8,
     "metadata": {},
     "output_type": "execute_result"
    }
   ],
   "source": [
    "#selecting all the features \n",
    "columns = movies_data.columns\n",
    "columns"
   ]
  },
  {
   "cell_type": "code",
   "execution_count": 9,
   "id": "00e16a8f-a209-4a66-9ed7-929c4317bf32",
   "metadata": {},
   "outputs": [
    {
     "name": "stdout",
     "output_type": "stream",
     "text": [
      "['Poster_Link', 'Series_Title', 'Released_Year', 'Certificate', 'Runtime', 'Genre', 'IMDB_Rating', 'Overview', 'Meta_score', 'Director', 'Star1', 'Star2', 'Star3', 'Star4', 'No_of_Votes', 'Gross']\n"
     ]
    }
   ],
   "source": [
    "#selecting the relevant features for recommendation\n",
    "selected_features = ['Poster_Link', 'Series_Title', 'Released_Year', 'Certificate', 'Runtime', 'Genre', 'IMDB_Rating',\n",
    "                     'Overview', 'Meta_score', 'Director', 'Star1', 'Star2', 'Star3', 'Star4', 'No_of_Votes', 'Gross']\n",
    "print(selected_features)"
   ]
  },
  {
   "cell_type": "code",
   "execution_count": 10,
   "id": "90ca7543-ab01-4534-97bc-28f0b53290e0",
   "metadata": {},
   "outputs": [],
   "source": [
    "#Replacing the null values with null string \n",
    "for feature in selected_features:\n",
    "    movies_data[feature] = movies_data[feature].fillna('')"
   ]
  },
  {
   "cell_type": "code",
   "execution_count": 11,
   "id": "5ff841b6-fc41-4e05-9776-e7c6fb01c6c8",
   "metadata": {},
   "outputs": [
    {
     "name": "stdout",
     "output_type": "stream",
     "text": [
      "0      https://m.media-amazon.com/images/M/MV5BMDFkYT...\n",
      "1      https://m.media-amazon.com/images/M/MV5BM2MyNj...\n",
      "2      https://m.media-amazon.com/images/M/MV5BMTMxNT...\n",
      "3      https://m.media-amazon.com/images/M/MV5BMWMwMG...\n",
      "4      https://m.media-amazon.com/images/M/MV5BMWU4N2...\n",
      "                             ...                        \n",
      "995    https://m.media-amazon.com/images/M/MV5BNGEwMT...\n",
      "996    https://m.media-amazon.com/images/M/MV5BODk3Yj...\n",
      "997    https://m.media-amazon.com/images/M/MV5BM2U3Yz...\n",
      "998    https://m.media-amazon.com/images/M/MV5BZTBmMj...\n",
      "999    https://m.media-amazon.com/images/M/MV5BMTY5OD...\n",
      "Length: 1000, dtype: object\n"
     ]
    }
   ],
   "source": [
    "#combining all the 5 selected features \n",
    "combined_features = movies_data['Poster_Link']+' '+movies_data['Series_Title']+' '+movies_data['Released_Year']\n",
    "print(combined_features)"
   ]
  },
  {
   "cell_type": "code",
   "execution_count": 12,
   "id": "168b2160-ca61-4ef9-b921-2dd5530c0f4b",
   "metadata": {},
   "outputs": [],
   "source": [
    "#converting the next data to feature vectors\n",
    "vectorizer = TfidfVectorizer()"
   ]
  },
  {
   "cell_type": "code",
   "execution_count": 13,
   "id": "b822e171-98ab-465c-8162-3494f7b380b2",
   "metadata": {},
   "outputs": [],
   "source": [
    "feature_vectors = vectorizer.fit_transform(combined_features)"
   ]
  },
  {
   "cell_type": "code",
   "execution_count": 14,
   "id": "3c3a23ba-38a0-4a9e-9e7b-da29c689c5db",
   "metadata": {},
   "outputs": [
    {
     "name": "stdout",
     "output_type": "stream",
     "text": [
      "  (0, 77)\t0.3732754284001163\n",
      "  (0, 2306)\t0.5111126479843474\n",
      "  (0, 2413)\t0.5111126479843474\n",
      "  (0, 2561)\t0.16967128752961222\n",
      "  (0, 891)\t0.0708343186611917\n",
      "  (0, 117)\t0.0708343186611917\n",
      "  (0, 115)\t0.0708343186611917\n",
      "  (0, 118)\t0.0896029371755012\n",
      "  (0, 1133)\t0.5111126479843474\n",
      "  (0, 827)\t0.0708343186611917\n",
      "  (0, 409)\t0.0708343186611917\n",
      "  (0, 162)\t0.0708343186611917\n",
      "  (0, 1050)\t0.0708343186611917\n",
      "  (0, 800)\t0.0708343186611917\n",
      "  (1, 55)\t0.46237348611875717\n",
      "  (1, 697)\t0.5280218531607563\n",
      "  (1, 120)\t0.27596909729772895\n",
      "  (1, 1114)\t0.5841351655192976\n",
      "  (1, 2561)\t0.1939121757519442\n",
      "  (1, 891)\t0.08095439746752076\n",
      "  (1, 117)\t0.08095439746752076\n",
      "  (1, 115)\t0.08095439746752076\n",
      "  (1, 827)\t0.08095439746752076\n",
      "  (1, 409)\t0.08095439746752076\n",
      "  (1, 162)\t0.08095439746752076\n",
      "  :\t:\n",
      "  (998, 2070)\t0.5825643802340742\n",
      "  (998, 27)\t0.5085860859570162\n",
      "  (998, 891)\t0.08073670474189439\n",
      "  (998, 117)\t0.08073670474189439\n",
      "  (998, 115)\t0.08073670474189439\n",
      "  (998, 118)\t0.10212910944124616\n",
      "  (998, 827)\t0.08073670474189439\n",
      "  (998, 409)\t0.08073670474189439\n",
      "  (998, 162)\t0.08073670474189439\n",
      "  (998, 1050)\t0.08073670474189439\n",
      "  (998, 800)\t0.08073670474189439\n",
      "  (999, 2498)\t0.49316214833193367\n",
      "  (999, 111)\t0.49316214833193367\n",
      "  (999, 1457)\t0.49316214833193367\n",
      "  (999, 18)\t0.44578790465297674\n",
      "  (999, 2561)\t0.16371235773236295\n",
      "  (999, 891)\t0.06834658642149642\n",
      "  (999, 117)\t0.06834658642149642\n",
      "  (999, 115)\t0.06834658642149642\n",
      "  (999, 118)\t0.08645604284806256\n",
      "  (999, 827)\t0.06834658642149642\n",
      "  (999, 409)\t0.06834658642149642\n",
      "  (999, 162)\t0.06834658642149642\n",
      "  (999, 1050)\t0.06834658642149642\n",
      "  (999, 800)\t0.06834658642149642\n"
     ]
    }
   ],
   "source": [
    "print(feature_vectors)"
   ]
  },
  {
   "cell_type": "markdown",
   "id": "fdf4980b-34fe-4467-9cb4-ac35d151c5d2",
   "metadata": {},
   "source": [
    "# **III- Cosine Similarity**"
   ]
  },
  {
   "cell_type": "code",
   "execution_count": 16,
   "id": "186b156f-2280-43da-95c6-4672c9216cb6",
   "metadata": {},
   "outputs": [],
   "source": [
    "#getting the similarity scores using cosine similarity\n",
    "similarity = cosine_similarity(feature_vectors)"
   ]
  },
  {
   "cell_type": "code",
   "execution_count": 17,
   "id": "26b5afcb-814e-46b0-85d1-48afdcc1fb19",
   "metadata": {},
   "outputs": [
    {
     "name": "stdout",
     "output_type": "stream",
     "text": [
      "[[1.         0.07877613 0.08270874 ... 0.04170919 0.0549025  0.07425427]\n",
      " [0.07877613 1.         0.08466378 ... 0.03972291 0.05228793 0.07600947]\n",
      " [0.08270874 0.08466378 1.         ... 0.0448265  0.05900587 0.07980397]\n",
      " ...\n",
      " [0.04170919 0.03972291 0.0448265  ... 1.         0.04753999 0.04024435]\n",
      " [0.0549025  0.05228793 0.05900587 ... 0.04753999 1.         0.0529743 ]\n",
      " [0.07425427 0.07600947 0.07980397 ... 0.04024435 0.0529743  1.        ]]\n"
     ]
    }
   ],
   "source": [
    "print(similarity)"
   ]
  },
  {
   "cell_type": "code",
   "execution_count": 18,
   "id": "fb4bf8e1-3ea9-4dec-bbb8-f26101394018",
   "metadata": {},
   "outputs": [
    {
     "name": "stdout",
     "output_type": "stream",
     "text": [
      "(1000, 1000)\n"
     ]
    }
   ],
   "source": [
    "print(similarity.shape)"
   ]
  },
  {
   "cell_type": "markdown",
   "id": "2873bd60-fac6-4078-89cc-aea8a6ea520e",
   "metadata": {},
   "source": [
    "# IV- Movie Recommendation Sytem"
   ]
  },
  {
   "cell_type": "code",
   "execution_count": 20,
   "id": "7a113db3-f166-4350-8fb7-455ce7c53107",
   "metadata": {},
   "outputs": [
    {
     "name": "stdin",
     "output_type": "stream",
     "text": [
      " Enter your favourite movie name :  Batman\n"
     ]
    },
    {
     "name": "stdout",
     "output_type": "stream",
     "text": [
      "Movies suggested for you : \n",
      "\n",
      "1 . Batman Begins\n",
      "2 . Batman: Mask of the Phantasm\n",
      "3 . C.R.A.Z.Y.\n",
      "4 . Serenity\n",
      "5 . Black\n",
      "6 . Cinderella Man\n",
      "7 . V for Vendetta\n",
      "8 . Lord of War\n",
      "9 . Sin City\n",
      "10 . Pride & Prejudice\n",
      "11 . Joyeux Noël\n",
      "12 . Brokeback Mountain\n",
      "13 . Walk the Line\n",
      "14 . Adams æbler\n",
      "15 . Match Point\n",
      "16 . Babam ve Oglum\n",
      "17 . The World's Fastest Indian\n",
      "18 . Harry Potter and the Goblet of Fire\n",
      "19 . Once\n",
      "20 . Lion\n",
      "21 . WALL·E\n",
      "22 . Pride\n",
      "23 . Heat\n",
      "24 . Up\n",
      "25 . Moon\n",
      "26 . Rush\n",
      "27 . Her\n",
      "28 . Deadpool\n",
      "29 . Amour\n"
     ]
    }
   ],
   "source": [
    "movie_name = input(' Enter your favourite movie name : ')\n",
    "\n",
    "list_of_all_titles = movies_data['Series_Title'].tolist()\n",
    "\n",
    "find_close_match = difflib.get_close_matches(movie_name, list_of_all_titles)\n",
    "\n",
    "close_match = find_close_match[0]\n",
    "\n",
    "index_of_the_movie = movies_data[movies_data.Series_Title == close_match].index.values[0]\n",
    "\n",
    "similarity_score = list(enumerate(similarity[index_of_the_movie]))\n",
    "\n",
    "sorted_similar_movies = sorted(similarity_score, key = lambda x:x[1], reverse = True) \n",
    "\n",
    "print('Movies suggested for you : \\n')\n",
    "\n",
    "i = 1\n",
    "\n",
    "for movie in sorted_similar_movies:\n",
    "  index = movie[0]\n",
    "  title_from_index = movies_data[movies_data.index==index]['Series_Title'].values[0]\n",
    "  if (i<30):\n",
    "    print(i, '.',title_from_index)\n",
    "    i+=1"
   ]
  }
 ],
 "metadata": {
  "kernelspec": {
   "display_name": "Python 3 (ipykernel)",
   "language": "python",
   "name": "python3"
  },
  "language_info": {
   "codemirror_mode": {
    "name": "ipython",
    "version": 3
   },
   "file_extension": ".py",
   "mimetype": "text/x-python",
   "name": "python",
   "nbconvert_exporter": "python",
   "pygments_lexer": "ipython3",
   "version": "3.10.13"
  }
 },
 "nbformat": 4,
 "nbformat_minor": 5
}
